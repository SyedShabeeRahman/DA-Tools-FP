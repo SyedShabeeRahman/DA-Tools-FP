{
  "nbformat": 4,
  "nbformat_minor": 0,
  "metadata": {
    "colab": {
      "name": "Untitled7.ipynb",
      "provenance": [],
      "collapsed_sections": []
    },
    "kernelspec": {
      "name": "python3",
      "display_name": "Python 3"
    },
    "language_info": {
      "name": "python"
    }
  },
  "cells": [
    {
      "cell_type": "code",
      "execution_count": 3,
      "metadata": {
        "id": "MEoOHTWXIWPv"
      },
      "outputs": [],
      "source": [
        "# Import packages\n",
        "import sys\n",
        "import pandas as pd\n",
        "import seaborn as sns\n",
        "import numpy as np\n",
        "import matplotlib.pyplot as plt\n",
        "from matplotlib.pyplot import pie, axis, show"
      ]
    },
    {
      "cell_type": "code",
      "source": [
        "db=pd.read_csv('survey.csv')"
      ],
      "metadata": {
        "id": "_TUw3KlTKIgY"
      },
      "execution_count": 6,
      "outputs": []
    },
    {
      "cell_type": "code",
      "source": [
        "#Age grouping\n",
        "db1 = db[db['Age'] > 0]\n",
        "db2 = db1[db1['Age'] < 100]\n",
        "\n",
        "db2.loc[db2['Age'].between(0, 15, 'both'), 'AgeGroup'] = 'children'\n",
        "db2.loc[db2['Age'].between(15, 20, 'right'), 'AgeGroup'] = 'adolescents'\n",
        "db2.loc[db2['Age'].between(20, 45, 'right'), 'AgeGroup'] = 'adults'\n",
        "db2.loc[db2['Age'].between(45, 100, 'right'), 'AgeGroup'] = 'seniors'"
      ],
      "metadata": {
        "colab": {
          "base_uri": "https://localhost:8080/"
        },
        "id": "xB8RYK5QYErZ",
        "outputId": "36728e1e-9727-455e-e83a-77c4327577fc"
      },
      "execution_count": 18,
      "outputs": [
        {
          "output_type": "stream",
          "name": "stderr",
          "text": [
            "/usr/local/lib/python3.7/dist-packages/pandas/core/indexing.py:1684: SettingWithCopyWarning: \n",
            "A value is trying to be set on a copy of a slice from a DataFrame.\n",
            "Try using .loc[row_indexer,col_indexer] = value instead\n",
            "\n",
            "See the caveats in the documentation: https://pandas.pydata.org/pandas-docs/stable/user_guide/indexing.html#returning-a-view-versus-a-copy\n",
            "  self.obj[key] = infer_fill_value(value)\n",
            "/usr/local/lib/python3.7/dist-packages/pandas/core/indexing.py:1817: SettingWithCopyWarning: \n",
            "A value is trying to be set on a copy of a slice from a DataFrame.\n",
            "Try using .loc[row_indexer,col_indexer] = value instead\n",
            "\n",
            "See the caveats in the documentation: https://pandas.pydata.org/pandas-docs/stable/user_guide/indexing.html#returning-a-view-versus-a-copy\n",
            "  self._setitem_single_column(loc, value, pi)\n"
          ]
        }
      ]
    },
    {
      "cell_type": "code",
      "source": [
        "#gender grouping\n",
        "male = [\"M\", \"Male\", \"male\", \"m\", 'Male-ish', 'maile',\n",
        "                'Cis Male', 'Mal', 'Male (CIS)',\n",
        "                'Make', 'male leaning androgynous', 'Male ', 'Man', 'msle', 'Mail', 'cis male', 'Malr', 'Cis Man']\n",
        "\n",
        "female = ['Female', 'female', 'Cis Female', 'F', 'f',\n",
        "                  'Woman', 'Femake', 'woman', 'fluid', 'Female ',\n",
        "                  'cis-female/femme', 'Female (cis)', 'femail']\n",
        "\n",
        "non_binary = ['Trans-female', 'queer/she/they',\n",
        "                      'non-binary', 'Nah', 'Enby', 'Genderqueer',  'Androgyne',\n",
        "                      'Agender', 'Guy (-ish) ^_^',  'Trans woman', 'Neuter',\n",
        "                      'Female (trans)', 'queer', 'A little about you', 'ostensibly male, unsure what that really means','something kinda male?']\n",
        "\n",
        "db.loc[(db['Gender'].isin(male)), \"Gender\"] = \"Male\"\n",
        "db.loc[(db['Gender'].isin(female)), \"Gender\"] = \"Female\"\n",
        "db.loc[(db['Gender'].isin(non_binary)), \"Gender\"] = \"NonBinary\""
      ],
      "metadata": {
        "id": "twrzL5bfP_k1"
      },
      "execution_count": 19,
      "outputs": []
    },
    {
      "cell_type": "code",
      "source": [
        "#Grouping by countries\n",
        "American_Countries = ['United States', 'Canada',\n",
        "                'Mexico', 'Costa Rica', 'Bahamas, The','Brazil', 'Colombia', 'Uruguay']\n",
        "\n",
        "Africa = ['South Africa', 'Nigeria']\n",
        "\n",
        "Asian_Countries = ['India', 'Israel', 'Singapore',\n",
        "        'Japan', 'Thailand', 'China', 'Philippines']\n",
        "\n",
        "Australia = ['Australia', 'New Zealand']\n",
        "\n",
        "European_Countries = ['United Kingdom', 'Bulgaria', 'France', 'Portugal',\n",
        "          'Netherlands', 'Switzerland', 'Poland', 'Germany', 'Russia',\n",
        "          'Slovenia', 'Austria', 'Ireland', 'Italy', 'Sweden',\n",
        "          'Latvia', 'Romania', 'Belgium', 'Spain', 'Finland',\n",
        "          'Bosnia and Herzegovina', 'Hungary', 'Croatia',\n",
        "          'Norway', 'Denmark', 'Greece', 'Moldova', 'Georgia', 'Czech Republic']\n",
        "\n",
        "\n",
        "\n"
      ],
      "metadata": {
        "id": "uJjAUrNifBcn"
      },
      "execution_count": 9,
      "outputs": []
    },
    {
      "cell_type": "code",
      "source": [
        "db2.loc[(db2['Country'].isin(American_Countries)), \"Country\"] = \"American Countries\"\n",
        "db2.loc[(db2['Country'].isin(Asian_Countries)), \"Country\"] = \"Asian Countries\"\n",
        "db2.loc[(db2['Country'].isin(European_Countries)), \"Country\"] = \"European Countries\"\n",
        "db2.loc[(db2['Country'].isin(Australia)), \"Country\"] = \"Australia\"\n",
        "db2.loc[(db2['Country'].isin(Africa)), \"Country\"] = \"Africa\""
      ],
      "metadata": {
        "colab": {
          "base_uri": "https://localhost:8080/"
        },
        "id": "Ul5QYaxwfbwh",
        "outputId": "06cd071a-711d-436d-ef4b-fd586a6cfdae"
      },
      "execution_count": 10,
      "outputs": [
        {
          "output_type": "stream",
          "name": "stderr",
          "text": [
            "/usr/local/lib/python3.7/dist-packages/pandas/core/indexing.py:1817: SettingWithCopyWarning: \n",
            "A value is trying to be set on a copy of a slice from a DataFrame.\n",
            "Try using .loc[row_indexer,col_indexer] = value instead\n",
            "\n",
            "See the caveats in the documentation: https://pandas.pydata.org/pandas-docs/stable/user_guide/indexing.html#returning-a-view-versus-a-copy\n",
            "  self._setitem_single_column(loc, value, pi)\n"
          ]
        }
      ]
    },
    {
      "cell_type": "code",
      "source": [
        "db2.loc[(db2['coworkers'].isin(['No'])),\n",
        "        \"coworkers\"] = \"No\"\n",
        "db2.loc[(db2['coworkers'].isin(['Yes', 'Some of them'])),\n",
        "        \"coworkers\"] = \"Yes\"\n",
        "\n",
        "db2.loc[(db2['mental_health_consequence'].isin(['No'])),\n",
        "        \"mental_health_consequence\"] = \"No\"\n",
        "db2.loc[(db2['mental_health_consequence'].isin(['Yes', 'Maybe'])),\n",
        "        \"mental_health_consequence\"] = \"Yes\"\n",
        "\n",
        "db2.loc[(db2['care_options'].isin(['No', \"Not sure\"])), \"care_options\"] = \"No\"\n",
        "db2.loc[(db2['care_options'].isin(['Yes'])), \"care_options\"] = \"Yes\"\n",
        "\n",
        "db2.loc[(db2['leave'].isin(['Somewhat easy','Very easy',\"Don't know\"])),\n",
        "        \"leave\"] = \"YES\"\n",
        "db2.loc[(db2['leave'].isin(['Somewhat difficult', 'Very difficult'])),\n",
        "        \"leave\"] = \"NO\"\n",
        "\n",
        "db2.loc[(db2['benefits'].isin(['No', \"Don't know\"])), \"benefits\"] = \"No\"\n",
        "db2.loc[(db2['benefits'].isin(['Yes'])), \"benefits\"] = \"Yes\"\n",
        "\n",
        "db2.loc[(db2['mental_vs_physical'].isin(['No', \"Don't know\"])), \"mental_vs_physical\"] = \"No\"\n",
        "db2.loc[(db2['mental_vs_physical'].isin(['Yes'])), \"mental_vs_physical\"] = \"Yes\"\n",
        "\n"
      ],
      "metadata": {
        "colab": {
          "base_uri": "https://localhost:8080/"
        },
        "id": "2QO8UWOHfxf8",
        "outputId": "64f26943-d4b8-4a76-9df7-e95e5453cfa6"
      },
      "execution_count": 11,
      "outputs": [
        {
          "output_type": "stream",
          "name": "stderr",
          "text": [
            "/usr/local/lib/python3.7/dist-packages/pandas/core/indexing.py:1817: SettingWithCopyWarning: \n",
            "A value is trying to be set on a copy of a slice from a DataFrame.\n",
            "Try using .loc[row_indexer,col_indexer] = value instead\n",
            "\n",
            "See the caveats in the documentation: https://pandas.pydata.org/pandas-docs/stable/user_guide/indexing.html#returning-a-view-versus-a-copy\n",
            "  self._setitem_single_column(loc, value, pi)\n"
          ]
        }
      ]
    },
    {
      "cell_type": "code",
      "source": [
        "#Printing Results\n",
        "\n",
        "final_data = db2[['AgeGroup','Country','coworkers',\n",
        "                   'leave', 'mental_health_consequence','care_options',\n",
        "                  'remote_work','benefits','treatment','obs_consequence','mental_vs_physical',]]\n",
        "\n",
        "db3=final_data.groupby(['Country','remote_work']).size()\n",
        "db3=db3.unstack()\n",
        "db3.plot(kind=\"bar\")"
      ],
      "metadata": {
        "colab": {
          "base_uri": "https://localhost:8080/",
          "height": 385
        },
        "id": "bcQMZh-XgqMB",
        "outputId": "a6dcd2a0-be62-4326-b42f-d75d48b4932b"
      },
      "execution_count": 14,
      "outputs": [
        {
          "output_type": "execute_result",
          "data": {
            "text/plain": [
              "<matplotlib.axes._subplots.AxesSubplot at 0x7fa0325f6b50>"
            ]
          },
          "metadata": {},
          "execution_count": 14
        },
        {
          "output_type": "display_data",
          "data": {
            "text/plain": [
              "<Figure size 432x288 with 1 Axes>"
            ],
            "image/png": "[encoded data removed]"
          },
          "metadata": {
            "needs_background": "light"
          }
        }
      ]
    },
    {
      "cell_type": "markdown",
      "source": [
        "This analysis shows the continents and how many remort work options they offer to their residents. \n",
        "The Orange bar shows the number of remort work jobs of the people survery for the dataset and the Blue bars show the number of in-oofice jobs they offer.\n",
        "\n",
        "We can cleary see the difference between the employement level of the continents as well here. The American and the European continents have much more jobs either way, remort or in office,than the other continents.\n",
        "\n",
        "But, it can also be observed that the number of remort jobs are less in each continent than the numbe of in-office job.\n"
      ],
      "metadata": {
        "id": "xu6WYdyOjQ2N"
      }
    },
    {
      "cell_type": "code",
      "source": [
        "#Following the Analysis of American Countries\n",
        "\n",
        "db5=db4.groupby(['mental_health_consequence','AgeGroup']).size()\n",
        "db5=db5.unstack()\n",
        "db5.plot(kind='bar', xlabel=\"Mental Health consequence\")"
      ],
      "metadata": {
        "colab": {
          "base_uri": "https://localhost:8080/",
          "height": 303
        },
        "id": "y_ZYVrZ6hS01",
        "outputId": "3cc198d9-3c58-4cf2-993c-da0941456b60"
      },
      "execution_count": 17,
      "outputs": [
        {
          "output_type": "execute_result",
          "data": {
            "text/plain": [
              "<matplotlib.axes._subplots.AxesSubplot at 0x7fa03241a2d0>"
            ]
          },
          "metadata": {},
          "execution_count": 17
        },
        {
          "output_type": "display_data",
          "data": {
            "text/plain": [
              "<Figure size 432x288 with 1 Axes>"
            ],
            "image/png": "[encoded data removed]"
          },
          "metadata": {
            "needs_background": "light"
          }
        }
      ]
    },
    {
      "cell_type": "markdown",
      "source": [
        "Here, we can observe the attitude of the people towards mental illness and the consequences the age group go thorugh. We can say that the adult age group of 20 to 45faces a lot more instability as compared to the seniors age group of 45 to 100. \n"
      ],
      "metadata": {
        "id": "ilfEzaPGk7e0"
      }
    }
  ]
}